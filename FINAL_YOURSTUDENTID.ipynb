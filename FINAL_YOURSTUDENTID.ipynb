{
 "cells": [
  {
   "cell_type": "code",
   "execution_count": null,
   "metadata": {},
   "outputs": [],
   "source": [
    "!pip install numpy pandas"
   ]
  },
  {
   "cell_type": "code",
   "execution_count": null,
   "metadata": {},
   "outputs": [],
   "source": [
    "import numpy as np\n",
    "import pandas as pd\n",
    "from final_test import FinalExamTest"
   ]
  },
  {
   "cell_type": "code",
   "execution_count": null,
   "metadata": {},
   "outputs": [],
   "source": [
    "def find_full_attendees(csv_file):\n",
    "    \"\"\"\n",
    "    >>> find_full_attendees('olympic_medal.csv')\n",
    "    returns a (13, 4) DataFrame\n",
    "    \"\"\""
   ]
  },
  {
   "cell_type": "code",
   "execution_count": null,
   "metadata": {},
   "outputs": [],
   "source": [
    "def find_gold_winning_teams(csv_file):\n",
    "    \"\"\"\n",
    "    >>> find_gold_winning_teams('olympic_medal.csv')\n",
    "    returns a (10, 4) DataFrame\n",
    "    \"\"\""
   ]
  },
  {
   "cell_type": "code",
   "execution_count": null,
   "metadata": {},
   "outputs": [],
   "source": [
    "def find_most_confirmed(csv_file):\n",
    "    \"\"\"\n",
    "    >>> find_most_confirmed('covid19_daily_report.csv')\n",
    "    returns a (10, 2) DataFrame\n",
    "    \"\"\""
   ]
  },
  {
   "cell_type": "code",
   "execution_count": null,
   "metadata": {},
   "outputs": [],
   "source": [
    "def calc_daily_increase_tw(csv_file):\n",
    "    \"\"\"\n",
    "    >>> calc_daily_increase_tw('covid19_time_series.csv')\n",
    "    returns a (148, 4) DataFrame\n",
    "    \"\"\""
   ]
  },
  {
   "cell_type": "code",
   "execution_count": null,
   "metadata": {},
   "outputs": [],
   "source": [
    "def recall_summary(csv_file):\n",
    "    \"\"\"\n",
    "    >>> recall_summary('kaohsiung_recall_2020.csv')\n",
    "    returns a (38, 2) DataFrame\n",
    "    \"\"\""
   ]
  },
  {
   "cell_type": "code",
   "execution_count": null,
   "metadata": {},
   "outputs": [],
   "source": [
    "def rise_and_fall(mayor_csv, president_csv):\n",
    "    \"\"\"\n",
    "    >>> rise_and_fall('mayors_2018.csv', 'presidential_2020.csv')\n",
    "    returns a (38, 4) DataFrame\n",
    "    \"\"\""
   ]
  },
  {
   "cell_type": "code",
   "execution_count": null,
   "metadata": {},
   "outputs": [],
   "source": [
    "def find_octopus_villages(csv_file):\n",
    "    \"\"\"\n",
    "    >>> find_octopus_villages('presidential_2020.csv')\n",
    "    returns a (10, 5) DataFrame\n",
    "    \"\"\""
   ]
  },
  {
   "cell_type": "code",
   "execution_count": null,
   "metadata": {},
   "outputs": [],
   "source": [
    "answer_list = [find_full_attendees('olympic_medal.csv'),\n",
    "               find_gold_winning_teams('olympic_medal.csv'),\n",
    "               find_most_confirmed('covid19_daily_report.csv'),\n",
    "               calc_daily_increase_tw('covid19_time_series.csv'),\n",
    "               recall_summary('kaohsiung_recall_2020.csv'),\n",
    "               rise_and_fall('mayors_2018.csv', 'presidential_2020.csv'),\n",
    "               find_octopus_villages('presidential_2020.csv')]\n",
    "fet = FinalExamTest(answer_list)\n",
    "fet.run_tests()"
   ]
  }
 ],
 "metadata": {
  "kernelspec": {
   "display_name": "Python Data Analysis",
   "language": "python",
   "name": "pyda"
  },
  "language_info": {
   "codemirror_mode": {
    "name": "ipython",
    "version": 3
   },
   "file_extension": ".py",
   "mimetype": "text/x-python",
   "name": "python",
   "nbconvert_exporter": "python",
   "pygments_lexer": "ipython3",
   "version": "3.6.8"
  }
 },
 "nbformat": 4,
 "nbformat_minor": 4
}
